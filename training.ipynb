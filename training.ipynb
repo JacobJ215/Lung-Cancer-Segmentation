{
 "cells": [
  {
   "cell_type": "markdown",
   "metadata": {},
   "source": [
    "### Import Libraries"
   ]
  },
  {
   "cell_type": "code",
   "execution_count": null,
   "metadata": {},
   "outputs": [],
   "source": [
    "import torch\n",
    "import pytorch_lightning as pl\n",
    "from pytorch_lightning.callbacks import ModelCheckpoint\n",
    "from pytorch_lightning.loggers import TensorBoardLogger\n",
    "import imgaug.augmenters as iaa\n",
    "\n",
    "import sklearn.metrics as metrics\n",
    "import pandas as pd\n",
    "import numpy as np\n",
    "import matplotlib.pyplot as plt\n",
    "import seaborn as sns\n",
    "from pathlib import Path\n",
    "\n",
    "from dataset import LungDataset\n",
    "from model import UNet"
   ]
  },
  {
   "cell_type": "markdown",
   "metadata": {},
   "source": [
    "### Data Preperation"
   ]
  },
  {
   "cell_type": "code",
   "execution_count": null,
   "metadata": {},
   "outputs": [],
   "source": [
    "# Define data augmentations\n",
    "seq = iaa.Sequential([\n",
    "    iaa.Affine(scale=(0.85, 1.15),\n",
    "    rotate=(-45, 45)),\n",
    "    iaa.ElasticTransformation()\n",
    "])"
   ]
  },
  {
   "cell_type": "code",
   "execution_count": null,
   "metadata": {},
   "outputs": [],
   "source": [
    "# Define paths\n",
    "train_path = Path('../Preprocessed/train/')\n",
    "val_path = Path('../Preprocessed/val/')\n",
    "\n",
    "# Create training dataset\n",
    "train_dataset = LungDataset(train_path, seq)\n",
    "\n",
    "# Create val dataset\n",
    "val_dataset = LungDataset(val_path, None)\n"
   ]
  },
  {
   "cell_type": "markdown",
   "metadata": {},
   "source": [
    "#### Oversampling"
   ]
  },
  {
   "cell_type": "code",
   "execution_count": null,
   "metadata": {},
   "outputs": [],
   "source": [
    "target_list = []\n",
    "for _, label in train_dataset:\n",
    "    # Check if mask contains a tumorous pixel:\n",
    "    if np.any(label):\n",
    "        target_list.append(1)\n",
    "    else:\n",
    "        target_list.append(0)\n",
    "\n",
    "unique = np.unique(target_list, return_counts=True)\n",
    "ratio = unique[1][0] / unique[1][1]\n",
    "ratio"
   ]
  },
  {
   "cell_type": "code",
   "execution_count": null,
   "metadata": {},
   "outputs": [],
   "source": [
    "weight_list = []\n",
    "\n",
    "for target in target_list:\n",
    "    if target == 0:\n",
    "        weight_list.append(1)\n",
    "    else:\n",
    "        weight_list.append(ratio)"
   ]
  },
  {
   "cell_type": "code",
   "execution_count": null,
   "metadata": {},
   "outputs": [],
   "source": [
    "sampler = torch.utils.data.sampler.WeightedRandomSampler(weight_list, len(weight_list))"
   ]
  },
  {
   "cell_type": "code",
   "execution_count": null,
   "metadata": {},
   "outputs": [],
   "source": [
    "# Define variables\n",
    "batch_size = 8\n",
    "num_workers = 4\n",
    "\n",
    "# Create data loaders\n",
    "train_loader = torch.utils.data.DataLoader(\n",
    "    train_dataset,\n",
    "    batch_size=batch_size,\n",
    "    num_workers=num_workers,\n",
    "    sampler=sampler\n",
    ")\n",
    "\n",
    "val_loader = torch.utils.data.DataLoader(\n",
    "    val_dataset,\n",
    "    batch_size=batch_size,\n",
    "    num_workers=num_workers,\n",
    "    shuffle=False\n",
    ")"
   ]
  },
  {
   "cell_type": "markdown",
   "metadata": {},
   "source": [
    "### Create Segmentation Model"
   ]
  },
  {
   "cell_type": "code",
   "execution_count": null,
   "metadata": {},
   "outputs": [],
   "source": [
    "# Define the TumorSegmentation class as a LightningModule\n",
    "class TumorSegmentation(pl.LightningModule):\n",
    "    def __init__(self):\n",
    "        super().__init__()\n",
    "\n",
    "        # Create an instance of the UNet model\n",
    "        self.model = UNet()\n",
    "\n",
    "        # Define the Adam optimizer for model parameters with a learning rate of 1e-4\n",
    "        self.optimizer = torch.optim.Adam(self.model.parameters(), lr=1e-4)\n",
    "\n",
    "        # Define the loss function for binary classification with logits\n",
    "        self.loss_fn = torch.nn.BCEWithLogitsLoss()\n",
    "\n",
    "    # Define the forward pass of the model\n",
    "    def forward(self, data):\n",
    "        pred = self.model(data)\n",
    "        return pred\n",
    "\n",
    "    # Define the training step for the LightningModule\n",
    "    def training_step(self, batch, batch_idx):\n",
    "        # Unpack the batch into CT scan images and their corresponding masks\n",
    "        ct_scan, mask = batch\n",
    "        mask = mask.float()\n",
    "\n",
    "        # Perform the forward pass to get the model predictions\n",
    "        pred = self(ct_scan)\n",
    "\n",
    "        # Calculate the binary cross-entropy loss between predictions and masks\n",
    "        loss = self.loss_fn(pred, mask)\n",
    "\n",
    "        # Log the loss and images periodically during training\n",
    "        self.log(\"Train Loss\", loss)\n",
    "        if batch_idx % 50 == 0:\n",
    "            self.log_images(ct_scan.cpu(), pred.cpu(), mask.cpu(), \"Train\")\n",
    "\n",
    "        return loss\n",
    "\n",
    "    # Define the validation step for the LightningModule\n",
    "    def validation_step(self, batch, batch_idx):\n",
    "        # Unpack the batch into CT scan images and their corresponding masks\n",
    "        ct_scan, mask = batch\n",
    "        mask = mask.float()\n",
    "\n",
    "        # Perform the forward pass to get the model predictions\n",
    "        pred = self(ct_scan)\n",
    "\n",
    "        # Calculate the binary cross-entropy loss between predictions and masks\n",
    "        loss = self.loss_fn(pred, mask)\n",
    "\n",
    "        # Log the loss and images periodically during validation\n",
    "        self.log(\"Val Loss\", loss)\n",
    "        if batch_idx % 50 == 0:\n",
    "            self.log_images(ct_scan.cpu(), pred.cpu(), mask.cpu(), \"Val\")\n",
    "\n",
    "        return loss\n",
    "\n",
    "    # Define a method to log CT scan images, actual masks, and predicted masks\n",
    "    def log_images(self, ct_scan, pred, mask, name):\n",
    "        results = []\n",
    "\n",
    "        # Threshold the predicted masks to obtain binary masks\n",
    "        pred = pred > 0.5\n",
    "\n",
    "        # Create a figure with two subplots to display actual and predicted masks\n",
    "        fig, axis = plt.subplots(1, 2)\n",
    "        axis[0].imshow(ct_scan[0][0], cmap=\"bone\")\n",
    "        mask_ = np.ma.masked_where(mask[0][0] == 0, mask[0][0])\n",
    "        axis[0].imshow(mask_, alpha=0.6)\n",
    "        axis[0].set_title(\"Actual\")\n",
    "\n",
    "        axis[1].imshow(ct_scan[0][0], cmap=\"bone\")\n",
    "        mask_ = np.ma.masked_where(mask[0][0] == 0, mask[0][0])\n",
    "        axis[1].imshow(mask_, alpha=0.6)\n",
    "        axis[1].set_title(\"Predicted\")\n",
    "\n",
    "        # Add the figure to the experiment's logger for visualization\n",
    "        self.logger.experiment.add_figure(f\"{name} Actual vs Prediction\", fig, self.global_step)\n",
    "\n",
    "    # Define a method to log the confusion matrix\n",
    "    def log_confusion_matrix(self, mask, pred):\n",
    "        # Calculate the confusion matrix\n",
    "        pred = (pred > 0.5).float().cpu()\n",
    "        mask = mask.float().cpu()\n",
    "        confusion_matrix = metrics.confusion_matrix(mask.flatten(), pred.flatten())\n",
    "\n",
    "        # Plot the confusion matrix using a heatmap\n",
    "        plt.figure()\n",
    "        sns.heatmap(confusion_matrix, annot=True, fmt='d', cmap='Blues')\n",
    "        plt.title('Confusion Matrix')\n",
    "        plt.xlabel('Predicted')\n",
    "        plt.ylabel('Actual')\n",
    "        plt.show()\n",
    "\n",
    "    # Define a method to log the ROC curve\n",
    "    def log_roc_curve(self, mask, pred):\n",
    "        # Calculate the ROC curve and AUC\n",
    "        fpr, tpr, thresholds = metrics.roc_curve(mask, pred)\n",
    "        roc_auc = metrics.auc(fpr, tpr)\n",
    "\n",
    "        # Create a plot for the ROC curve\n",
    "        sns.set_style(\"darkgrid\")\n",
    "        roc_df = pd.DataFrame({'fpr': fpr, 'tpr': tpr})\n",
    "        sns.lineplot(data=roc_df, x='fpr', y='tpr', color='blue', label=f'ROC AUC = {roc_auc:.2f}')\n",
    "        sns.lineplot(x=[0, 1], y=[0, 1], color='gray', linestyle='--')\n",
    "        plt.title('Receiver Operating Characteristic (ROC) Curve')\n",
    "        plt.xlabel('False Positive Rate')\n",
    "        plt.ylabel('True Positive Rate')\n",
    "        plt.legend(loc=\"lower right\")\n",
    "\n",
    "    # Define a method to configure the optimizer\n",
    "    def configure_optimizers(self):\n",
    "        return [self.optimizer]"
   ]
  },
  {
   "cell_type": "code",
   "execution_count": null,
   "metadata": {},
   "outputs": [],
   "source": [
    "# Create checkpoint\n",
    "checkpoint_callback = ModelCheckpoint(\n",
    "    monitor='Val Loss',\n",
    "    dirpath='./models',\n",
    "    filename='best_model',\n",
    "    save_top_k=1,\n",
    "    mode='min'\n",
    ")"
   ]
  },
  {
   "cell_type": "code",
   "execution_count": null,
   "metadata": {},
   "outputs": [],
   "source": [
    "# Intialize the model\n",
    "model = TumorSegmentation()"
   ]
  },
  {
   "cell_type": "code",
   "execution_count": null,
   "metadata": {},
   "outputs": [],
   "source": [
    "# Create PyTorch Lightning Trainer\n",
    "trainer = pl.Trainer(\n",
    "    devices=1,\n",
    "    accelerator='gpu',\n",
    "    logger=TensorBoardLogger(save_dir='../logs'),\n",
    "    log_every_n_steps=1,\n",
    "    callbacks=checkpoint_callback,\n",
    "    max_epochs=1\n",
    ")"
   ]
  },
  {
   "cell_type": "code",
   "execution_count": null,
   "metadata": {},
   "outputs": [],
   "source": [
    "# Train model\n",
    "trainer.fit(model, train_loader, val_loader)"
   ]
  },
  {
   "cell_type": "code",
   "execution_count": null,
   "metadata": {},
   "outputs": [],
   "source": []
  }
 ],
 "metadata": {
  "kernelspec": {
   "display_name": "Python 3.8.13 ('mlenv')",
   "language": "python",
   "name": "python3"
  },
  "language_info": {
   "codemirror_mode": {
    "name": "ipython",
    "version": 3
   },
   "file_extension": ".py",
   "mimetype": "text/x-python",
   "name": "python",
   "nbconvert_exporter": "python",
   "pygments_lexer": "ipython3",
   "version": "3.8.13"
  },
  "orig_nbformat": 4,
  "vscode": {
   "interpreter": {
    "hash": "b70179fab6876b7c595114bbc672b8e83584a7ba0b944e182b5db9aa757417c5"
   }
  }
 },
 "nbformat": 4,
 "nbformat_minor": 2
}
